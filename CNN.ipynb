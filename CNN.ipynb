{
 "cells": [
  {
   "cell_type": "code",
   "execution_count": 1,
   "metadata": {},
   "outputs": [],
   "source": [
    "from tensorflow.keras.models import Sequential\n",
    "from tensorflow.keras.layers import Dense\n",
    "from tensorflow.keras.layers import Convolution2D\n",
    "from tensorflow.keras.layers import MaxPooling2D\n",
    "from tensorflow.keras.layers import Flatten\n",
    "from keras.preprocessing.image import ImageDataGenerator"
   ]
  },
  {
   "cell_type": "code",
   "execution_count": 2,
   "metadata": {},
   "outputs": [],
   "source": [
    "train_datagen =  ImageDataGenerator(rescale = 1./255,shear_range = 0.2,zoom_range = 0.2,horizontal_flip = True)\n",
    "test_datagen =  ImageDataGenerator(rescale = 1./255)"
   ]
  },
  {
   "cell_type": "code",
   "execution_count": 3,
   "metadata": {},
   "outputs": [
    {
     "name": "stdout",
     "output_type": "stream",
     "text": [
      "Found 20000 images belonging to 4 classes.\n",
      "Found 4000 images belonging to 4 classes.\n"
     ]
    }
   ],
   "source": [
    "x_train = train_datagen.flow_from_directory(\"CIFAR10/train\",target_size = (32,32),batch_size = 32, class_mode =\"categorical\")\n",
    "x_test = test_datagen.flow_from_directory(\"CIFAR10/test\",target_size = (32,32),batch_size = 32, class_mode =\"categorical\")"
   ]
  },
  {
   "cell_type": "code",
   "execution_count": 4,
   "metadata": {},
   "outputs": [],
   "source": [
    "model = Sequential()\n",
    "model.add(Convolution2D(32,(3,3), input_shape=(32,32,3)))\n",
    "model.add(MaxPooling2D(2,2))\n",
    "model.add(Flatten())"
   ]
  },
  {
   "cell_type": "code",
   "execution_count": 5,
   "metadata": {},
   "outputs": [],
   "source": [
    "model.add(Dense(units = 512,activation = \"relu\",kernel_initializer = \"random_uniform\"))\n",
    "model.add(Dense(units = 4,activation = \"softmax\",kernel_initializer = \"random_uniform\"))\n",
    "model.compile(\"sgd\",loss = \"categorical_crossentropy\",metrics = [\"accuracy\"])"
   ]
  },
  {
   "cell_type": "code",
   "execution_count": 10,
   "metadata": {},
   "outputs": [
    {
     "name": "stdout",
     "output_type": "stream",
     "text": [
      "Epoch 1/25\n",
      "625/625 [==============================] - 12s 20ms/step - loss: 0.1502 - accuracy: 0.9464 - val_loss: 0.6409 - val_accuracy: 0.8232\n",
      "Epoch 2/25\n",
      "625/625 [==============================] - 12s 19ms/step - loss: 0.1479 - accuracy: 0.9491 - val_loss: 0.6369 - val_accuracy: 0.8242\n",
      "Epoch 3/25\n",
      "625/625 [==============================] - 12s 20ms/step - loss: 0.1491 - accuracy: 0.9482 - val_loss: 0.6300 - val_accuracy: 0.8330\n",
      "Epoch 4/25\n",
      "625/625 [==============================] - 13s 20ms/step - loss: 0.1457 - accuracy: 0.9496 - val_loss: 0.6687 - val_accuracy: 0.8167\n",
      "Epoch 5/25\n",
      "625/625 [==============================] - 13s 20ms/step - loss: 0.1365 - accuracy: 0.9532 - val_loss: 0.6666 - val_accuracy: 0.8198\n",
      "Epoch 6/25\n",
      "625/625 [==============================] - 13s 21ms/step - loss: 0.1385 - accuracy: 0.9537 - val_loss: 0.6858 - val_accuracy: 0.8205\n",
      "Epoch 7/25\n",
      "625/625 [==============================] - 12s 20ms/step - loss: 0.1419 - accuracy: 0.9503 - val_loss: 0.6827 - val_accuracy: 0.8173\n",
      "Epoch 8/25\n",
      "625/625 [==============================] - 12s 20ms/step - loss: 0.1389 - accuracy: 0.9528 - val_loss: 0.7320 - val_accuracy: 0.8105\n",
      "Epoch 9/25\n",
      "625/625 [==============================] - 12s 20ms/step - loss: 0.1337 - accuracy: 0.9543 - val_loss: 0.6475 - val_accuracy: 0.8265\n",
      "Epoch 10/25\n",
      "625/625 [==============================] - 13s 20ms/step - loss: 0.1291 - accuracy: 0.9560 - val_loss: 0.6725 - val_accuracy: 0.8255\n",
      "Epoch 11/25\n",
      "625/625 [==============================] - 12s 20ms/step - loss: 0.1247 - accuracy: 0.9575 - val_loss: 0.6760 - val_accuracy: 0.8250\n",
      "Epoch 12/25\n",
      "625/625 [==============================] - 12s 20ms/step - loss: 0.1197 - accuracy: 0.9588 - val_loss: 0.7141 - val_accuracy: 0.8238\n",
      "Epoch 13/25\n",
      "625/625 [==============================] - 12s 20ms/step - loss: 0.1203 - accuracy: 0.9580 - val_loss: 0.6883 - val_accuracy: 0.8263\n",
      "Epoch 14/25\n",
      "625/625 [==============================] - 12s 19ms/step - loss: 0.1216 - accuracy: 0.9588 - val_loss: 0.6520 - val_accuracy: 0.8253\n",
      "Epoch 15/25\n",
      "625/625 [==============================] - 12s 19ms/step - loss: 0.1208 - accuracy: 0.9577 - val_loss: 0.6821 - val_accuracy: 0.8240\n",
      "Epoch 16/25\n",
      "625/625 [==============================] - 12s 19ms/step - loss: 0.1178 - accuracy: 0.9596 - val_loss: 0.6985 - val_accuracy: 0.8230\n",
      "Epoch 17/25\n",
      "625/625 [==============================] - 13s 20ms/step - loss: 0.1143 - accuracy: 0.9603 - val_loss: 0.7392 - val_accuracy: 0.8175\n",
      "Epoch 18/25\n",
      "625/625 [==============================] - 12s 20ms/step - loss: 0.1162 - accuracy: 0.9604 - val_loss: 0.7029 - val_accuracy: 0.8257\n",
      "Epoch 19/25\n",
      "625/625 [==============================] - 12s 20ms/step - loss: 0.1146 - accuracy: 0.9627 - val_loss: 0.7154 - val_accuracy: 0.8227\n",
      "Epoch 20/25\n",
      "625/625 [==============================] - 12s 19ms/step - loss: 0.1135 - accuracy: 0.9613 - val_loss: 0.7610 - val_accuracy: 0.8160\n",
      "Epoch 21/25\n",
      "625/625 [==============================] - 12s 19ms/step - loss: 0.1110 - accuracy: 0.9614 - val_loss: 0.6940 - val_accuracy: 0.8232\n",
      "Epoch 22/25\n",
      "625/625 [==============================] - 12s 19ms/step - loss: 0.1051 - accuracy: 0.9639 - val_loss: 0.7042 - val_accuracy: 0.8235\n",
      "Epoch 23/25\n",
      "625/625 [==============================] - 12s 20ms/step - loss: 0.1075 - accuracy: 0.9631 - val_loss: 0.7243 - val_accuracy: 0.8220\n",
      "Epoch 24/25\n",
      "625/625 [==============================] - 12s 20ms/step - loss: 0.1031 - accuracy: 0.9651 - val_loss: 0.7356 - val_accuracy: 0.8200\n",
      "Epoch 25/25\n",
      "625/625 [==============================] - 12s 20ms/step - loss: 0.1055 - accuracy: 0.9633 - val_loss: 0.7688 - val_accuracy: 0.8138\n"
     ]
    },
    {
     "data": {
      "text/plain": [
       "<tensorflow.python.keras.callbacks.History at 0x217acf0f6d8>"
      ]
     },
     "execution_count": 10,
     "metadata": {},
     "output_type": "execute_result"
    }
   ],
   "source": [
    "model.fit_generator(x_train ,steps_per_epoch = 625 ,epochs = 25,validation_data= x_test , validation_steps = 125)"
   ]
  },
  {
   "cell_type": "code",
   "execution_count": 11,
   "metadata": {},
   "outputs": [],
   "source": [
    "model.save(\"CNN2.h5\")"
   ]
  },
  {
   "cell_type": "code",
   "execution_count": null,
   "metadata": {},
   "outputs": [],
   "source": []
  }
 ],
 "metadata": {
  "kernelspec": {
   "display_name": "Python 3",
   "language": "python",
   "name": "python3"
  },
  "language_info": {
   "codemirror_mode": {
    "name": "ipython",
    "version": 3
   },
   "file_extension": ".py",
   "mimetype": "text/x-python",
   "name": "python",
   "nbconvert_exporter": "python",
   "pygments_lexer": "ipython3",
   "version": "3.7.3"
  }
 },
 "nbformat": 4,
 "nbformat_minor": 2
}
